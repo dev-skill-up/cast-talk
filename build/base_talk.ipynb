{
 "cells": [
  {
   "cell_type": "markdown",
   "metadata": {},
   "source": [
    "```{=latex}\n",
    "\\usepackage{hyperref}\n",
    "\\usepackage{graphicx}\n",
    "\\usepackage{listings}\n",
    "\\usepackage{textcomp}\n",
    "\\usepackage{fancyvrb}\n",
    "\n",
    "\\newcommand{\\passthrough}[1]{\\lstset{mathescape=false}#1\\lstset{mathescape=true}}\n",
    "\\newcommand{\\tightlist}{}\n",
    "```"
   ]
  },
  {
   "cell_type": "markdown",
   "metadata": {},
   "source": [
    "```{=latex}\n",
    "\\title{CAST Incident Retrospectives}\n",
    "\\author{Moshe Zadka -- https://cobordism.com}\n",
    "\\date{}\n",
    "\n",
    "\\begin{document}\n",
    "\\begin{titlepage}\n",
    "\\maketitle\n",
    "\\end{titlepage}\n",
    "\n",
    "\\frame{\\titlepage}\n",
    "```"
   ]
  },
  {
   "cell_type": "markdown",
   "metadata": {
    "tags": []
   },
   "source": [
    "```{=latex}\n",
    "\\begin{frame}\n",
    "\\frametitle{Acknowledgement of Country}\n",
    "\n",
    "Belmont (in San Francisco Bay Area Peninsula)\n",
    "\n",
    "Ancestral homeland of the Ramaytush Ohlone people\n",
    "\n",
    "\\end{frame}\n",
    "```"
   ]
  },
  {
   "cell_type": "markdown",
   "metadata": {
    "tags": []
   },
   "source": [
    "I live in Belmont,\n",
    "in the San Francisco Bay Area Peninsula.\n",
    "I wish to acknowledge it as the\n",
    "ancestral homeland\n",
    "of the\n",
    "Ramaytush Ohlone people."
   ]
  },
  {
   "cell_type": "markdown",
   "metadata": {},
   "source": [
    "## Basics"
   ]
  },
  {
   "cell_type": "markdown",
   "metadata": {},
   "source": [
    "### What is an incident?"
   ]
  },
  {
   "cell_type": "markdown",
   "metadata": {
    "tags": []
   },
   "source": [
    "```{=latex}\n",
    "\\begin{frame}\n",
    "\\frametitle{What is an Incident?}\n",
    "\n",
    "Bad\\pause\n",
    "\n",
    "Unplanned\\pause\n",
    "\n",
    "Willing to stop\n",
    "\n",
    "\\end{frame}\n",
    "```\n",
    "\n",
    "An incident is something that is:\n",
    "\n",
    "* Bad: If it wasn't a problem, there's no issue.\n",
    "* Unplanned: If the problem was *planned*, it is not an incident.\n",
    "  This is not the same as saying the problem was\n",
    "  *caused*\n",
    "  by a planned thing.\n",
    "  If a website was planned to shut down for three hours for an upgrade,\n",
    "  and it shut down,\n",
    "  this is fine.\n",
    "  If an upgrade caused a three hour outage,\n",
    "  it might be an incident.\n",
    "* Willing to stop: An incident has to be something that,\n",
    "  at least in principle,\n",
    "  we are willing to put effort into stopping.\n",
    "  If an earthquake took out our datacenter,\n",
    "  and the risk of earthquakes is low,\n",
    "  we might not be willing to put in the effort to stop it."
   ]
  },
  {
   "cell_type": "markdown",
   "metadata": {},
   "source": [
    "### What is an incident retrospective?"
   ]
  },
  {
   "cell_type": "markdown",
   "metadata": {
    "tags": []
   },
   "source": [
    "```{=latex}\n",
    "\\begin{frame}\n",
    "\\frametitle{What is an Incident Retrospective?}\n",
    "\n",
    "(Post-mortem)\\pause\n",
    "\n",
    "Analyze\\pause\n",
    "\n",
    "Improve\n",
    "\n",
    "\\end{frame}\n",
    "```\n",
    "\n",
    "An incident retrospective is a process that allows us to analyze the incident\n",
    "and improve our future resilience based on the analysis.\n",
    "The process usually has both an async part,\n",
    "where someone does the research, analysis, and suggested improvement,\n",
    "and a synchronous part,\n",
    "where the analysis is validated\n",
    "and the team commits to the improvement plan."
   ]
  },
  {
   "cell_type": "markdown",
   "metadata": {},
   "source": [
    "### Why is an incident retrospective?"
   ]
  },
  {
   "cell_type": "markdown",
   "metadata": {
    "tags": []
   },
   "source": [
    "```{=latex}\n",
    "\\begin{frame}\n",
    "\\frametitle{Why is an Incident Retrospective?}\n",
    "\n",
    "\\pause\n",
    "Do better!\n",
    "\n",
    "\\end{frame}\n",
    "```\n",
    "\n",
    "We do incident retrospectives because an\n",
    "incident\n",
    "teaches us about a lack of resiliency in our system.\n",
    "We want our systems to be more resilient.\n",
    "The\n",
    "\"natural lesson\"\n",
    "of an incident is a poor thing to waste."
   ]
  },
  {
   "cell_type": "markdown",
   "metadata": {},
   "source": [
    "### What is root cause analysis?"
   ]
  },
  {
   "cell_type": "markdown",
   "metadata": {
    "tags": []
   },
   "source": [
    "```{=latex}\n",
    "\\begin{frame}\n",
    "\\frametitle{What is root cause analysis?}\n",
    "\n",
    "Find cause...\\pause\n",
    "eliminate!\n",
    "\n",
    "\n",
    "\\end{frame}\n",
    "```\n",
    "\n",
    "Root Cause Analysis,\n",
    "sometimes in the form of the\n",
    "\"five whys\",\n",
    "asks\n",
    "\"what originally caused the problem?\"\n",
    "The goal of an RCA\n",
    "is to\n",
    "*identify*\n",
    "the root cause,\n",
    "and then eliminate it.\n",
    "\n",
    "Note that this is a crucial piece of\n",
    "RCA:\n",
    "the improvement is to\n",
    "*eliminate the root cause*.\n",
    "The theory underlying it is that\n",
    "any other step along the way\n",
    "would not have happened\n",
    "without the original problem."
   ]
  },
  {
   "cell_type": "markdown",
   "metadata": {},
   "source": [
    "### Why not root cause analysis?"
   ]
  },
  {
   "cell_type": "markdown",
   "metadata": {
    "tags": []
   },
   "source": [
    "```{=latex}\n",
    "\\begin{frame}\n",
    "\\frametitle{Why not root cause analysis?}\n",
    "\n",
    "More than one\\pause\n",
    "\n",
    "Too specific\\pause\n",
    "\n",
    "Not controllable\n",
    "\n",
    "\\end{frame}\n",
    "```\n",
    "\n",
    "Why not do RCA-based analysis?\n",
    "\n",
    "For one,\n",
    "there might be\n",
    "*more than one*\n",
    "*root*\n",
    "cause.\n",
    "In some situations,\n",
    "*two*\n",
    "things had to have happened:\n",
    "without either,\n",
    "the incident would not happen.\n",
    "\n",
    "The root cause might also be\n",
    "*too specific*.\n",
    "If we eliminate the root cause,\n",
    "but another one can start the same chain of events,\n",
    "we have fixed the\n",
    "*wrong problem*.\n",
    "\n",
    "Finally,\n",
    "the root cause might be\n",
    "*beyond our boundary of control*.\n",
    "If the root cause is\n",
    "\"high customer traffic following a world-wide event\",\n",
    "then unless we control the world,\n",
    "we cannot remove the cause.\n",
    "\n",
    "Sometimes,\n",
    "RCA has morphed into\n",
    "\"contributing cause analysis\".\n",
    "This tries to address the issue\n",
    "by suggesting we look at\n",
    "\"all\"\n",
    "things that caused the incident.\n",
    "This is a patch on RCA\n",
    "which transforms a poor system\n",
    "to a poorly defined system.\n",
    "\n",
    "Instead,\n",
    "the right way to fix the issue is to go back to the drawing board:\n",
    "how do we make systems more resilient?\n",
    "There is a field that deals with those issues:\n",
    "systems theory."
   ]
  },
  {
   "cell_type": "markdown",
   "metadata": {},
   "source": [
    "## System Theory Basics"
   ]
  },
  {
   "cell_type": "markdown",
   "metadata": {},
   "source": [
    "### System"
   ]
  },
  {
   "cell_type": "markdown",
   "metadata": {
    "tags": []
   },
   "source": [
    "```{=latex}\n",
    "\\begin{frame}\n",
    "\\frametitle{System}\n",
    "\n",
    "Components\\pause\n",
    "\n",
    "You control\n",
    "\n",
    "\\end{frame}\n",
    "```\n",
    "\n",
    "Systems theory,\n",
    "like any field,\n",
    "has some technical jargon.\n",
    "These are specific terms\n",
    "with precise meaning,\n",
    "different than their meaning in regular use.\n",
    "\n",
    "A\n",
    "*system*\n",
    "is a collection of\n",
    "*components*.\n",
    "A component is only in the system\n",
    "if\n",
    "*you*\n",
    "control it.\n",
    "\n",
    "This means,\n",
    "for example,\n",
    "your co-lo datacenter's power is\n",
    "*not*\n",
    "part of your system.\n"
   ]
  },
  {
   "cell_type": "markdown",
   "metadata": {},
   "source": [
    "### Environment"
   ]
  },
  {
   "cell_type": "markdown",
   "metadata": {
    "tags": []
   },
   "source": [
    "```{=latex}\n",
    "\\begin{frame}\n",
    "\\frametitle{Environment}\n",
    "\n",
    "Influences behavior\\pause\n",
    "\n",
    "Not system\n",
    "\n",
    "\\end{frame}\n",
    "```\n",
    "\n",
    "The *environment*\n",
    "is anything that influences the behavior of the system\n",
    "but is not a part of it.\n",
    "This can include the people who use the system,\n",
    "the underlying network infrastructure,\n",
    "or even the weather!"
   ]
  },
  {
   "cell_type": "markdown",
   "metadata": {},
   "source": [
    "### Control"
   ]
  },
  {
   "cell_type": "markdown",
   "metadata": {
    "tags": []
   },
   "source": [
    "```{=latex}\n",
    "\\begin{frame}\n",
    "\\frametitle{Control}\n",
    "\n",
    "Input\\pause\n",
    "\n",
    "to output\n",
    "\n",
    "\\end{frame}\n",
    "```\n",
    "\n",
    "A\n",
    "*control*\n",
    "is a part of the component.\n",
    "It is something that takes input,\n",
    "from the system or environment,\n",
    "or produces some result or output.\n",
    "\n",
    "An example of a control\n",
    "is a thermostat.\n",
    "The input is a temprature,\n",
    "and the output is to connect\n",
    "or disconnect an electric circuit."
   ]
  },
  {
   "cell_type": "markdown",
   "metadata": {},
   "source": [
    "### Loss"
   ]
  },
  {
   "cell_type": "markdown",
   "metadata": {
    "tags": []
   },
   "source": [
    "```{=latex}\n",
    "\\begin{frame}\n",
    "\\frametitle{Loss}\n",
    "\n",
    "Undesired behavior\n",
    "\n",
    "\\end{frame}\n",
    "```\n",
    "\n",
    "A system has things it should do.\n",
    "When it does not do these things,\n",
    "the technical term is\n",
    "\"loss\".\n",
    "\n",
    "A loss can be\n",
    "\"our website was unavailable for five seconds,\n",
    "so people could not see cat pictures\"\n",
    "or\n",
    "\"we leaked all customers credit cards and\n",
    "billions of dollars were stolen\".\n",
    "A loss should always be something concrete\n",
    "that someone cares about.\n"
   ]
  },
  {
   "cell_type": "markdown",
   "metadata": {},
   "source": [
    "### Safety Control"
   ]
  },
  {
   "cell_type": "markdown",
   "metadata": {
    "tags": []
   },
   "source": [
    "```{=latex}\n",
    "\\begin{frame}\n",
    "\\frametitle{Safety Control}\n",
    "\n",
    "Control\\pause\n",
    "\n",
    "Prevent loss\n",
    "\n",
    "\\end{frame}\n",
    "```\n",
    "\n",
    "A *safety control*\n",
    "is a control whose purpose is to prevent or reduce loss.\n",
    "For example,\n",
    "a\n",
    "*high availability load balancer*\n",
    "will prevent loss in the form of a site outage\n",
    "by routing to only healthy nodes.\n",
    "\n",
    "A *safety control*\n",
    "can also be a fire alarm.\n",
    "While it does not prevent all loss from a fire,\n",
    "it alerts people to leave,\n",
    "thus preventing the loss of human life.\n"
   ]
  },
  {
   "cell_type": "markdown",
   "metadata": {},
   "source": [
    "## CAST Pt 1.: Analyze"
   ]
  },
  {
   "cell_type": "markdown",
   "metadata": {},
   "source": [
    "### Hazard"
   ]
  },
  {
   "cell_type": "markdown",
   "metadata": {
    "tags": []
   },
   "source": [
    "```{=latex}\n",
    "\\begin{frame}\n",
    "\\frametitle{Hazard}\n",
    "\n",
    "Input to system\\pause\n",
    "\n",
    "led to problem\n",
    "\n",
    "\\end{frame}\n",
    "```\n",
    "\n",
    "When analyzing the system,\n",
    "the\n",
    "*hazard*\n",
    "is an input to the system that led to the problem.\n",
    "This is a little like the\n",
    "\"RCA\",\n",
    "but has a more concrete definition:\n",
    "\n",
    "* It must come from outside the system\n",
    "* There can be multiple hazards\n",
    "\n",
    "The job of CAST is not to prevent the hazard.\n",
    "*Knowing* the hazard is important regardless."
   ]
  },
  {
   "cell_type": "markdown",
   "metadata": {},
   "source": [
    "### Timeline"
   ]
  },
  {
   "cell_type": "markdown",
   "metadata": {
    "tags": []
   },
   "source": [
    "```{=latex}\n",
    "\\begin{frame}\n",
    "\\frametitle{Timeline}\n",
    "\n",
    "What happened\\pause\n",
    "\n",
    "When\n",
    "\n",
    "\\end{frame}\n",
    "```\n",
    "\n",
    "The timeline should list everything relevant to the incident.\n",
    "The hazard does not need to be the first thing!\n",
    "\n",
    "Dates of changes to the system that are relevant,\n",
    "for example,\n",
    "often predate the hazard.\n",
    "The timeline should not end before the incident was completely mitigated."
   ]
  },
  {
   "cell_type": "markdown",
   "metadata": {},
   "source": [
    "### Loss"
   ]
  },
  {
   "cell_type": "markdown",
   "metadata": {
    "tags": []
   },
   "source": [
    "```{=latex}\n",
    "\\begin{frame}\n",
    "\\frametitle{Loss}\n",
    "\n",
    "Why it was bad?\n",
    "\n",
    "\\end{frame}\n",
    "```\n",
    "\n",
    "The next step is to explain the specific loss.\n",
    "There was no incident if nobody was harmed.\n",
    "Detail the specific loss incurred.\n",
    "\n",
    "This can range anywhere from\n",
    "\"three people lost a work hour each restoring the system\"\n",
    "to...\n",
    "well."
   ]
  },
  {
   "cell_type": "markdown",
   "metadata": {},
   "source": [
    "### Loss Analysis"
   ]
  },
  {
   "cell_type": "markdown",
   "metadata": {
    "tags": []
   },
   "source": [
    "```{=latex}\n",
    "\\begin{frame}\n",
    "\\frametitle{Loss Analysis}\n",
    "\n",
    "Causal path\\pause\n",
    "\n",
    "Hazard\\pause\n",
    "\n",
    "Loss\n",
    "\n",
    "\\end{frame}\n",
    "```\n",
    "\n",
    "The loss analysis should be based on the timeline.\n",
    "It should analyze the causal path that links the hazard\n",
    "to the incident.\n",
    "Each step in this should be documented in the timeline."
   ]
  },
  {
   "cell_type": "markdown",
   "metadata": {},
   "source": [
    "### Safety Control Failures"
   ]
  },
  {
   "cell_type": "markdown",
   "metadata": {
    "tags": []
   },
   "source": [
    "```{=latex}\n",
    "\\begin{frame}\n",
    "\\frametitle{Safety Control Failures}\n",
    "\n",
    "For each safety control:\\pause\n",
    "\n",
    "Why it didn't prevent loss\n",
    "\n",
    "\\end{frame}\n",
    "```\n",
    "\n",
    "The hazard would not lead to the loss if the safety controls performed correctly.\n",
    "For each relevant safety control,\n",
    "indicate why it failed to prevent the loss."
   ]
  },
  {
   "cell_type": "markdown",
   "metadata": {},
   "source": [
    "## CAST Pt. 2: Improve"
   ]
  },
  {
   "cell_type": "markdown",
   "metadata": {},
   "source": [
    "### Safety Control Problems"
   ]
  },
  {
   "cell_type": "markdown",
   "metadata": {
    "tags": []
   },
   "source": [
    "```{=latex}\n",
    "\\begin{frame}\n",
    "\\frametitle{Safety Control Problems}\n",
    "\n",
    "Suggest fixes!\n",
    "\n",
    "\\end{frame}\n",
    "```\n",
    "\n",
    "For safety control that failed to prevent the loss,\n",
    "explain what problem led to failing to do so.\n",
    "Indicate how it could be fixed."
   ]
  },
  {
   "cell_type": "markdown",
   "metadata": {},
   "source": [
    "### Missing Safety Controls"
   ]
  },
  {
   "cell_type": "markdown",
   "metadata": {
    "tags": []
   },
   "source": [
    "```{=latex}\n",
    "\\begin{frame}\n",
    "\\frametitle{Missing Safety Controls}\n",
    "\n",
    "Suggest implementation!\n",
    "\n",
    "\\end{frame}\n",
    "```\n",
    "\n",
    "Often,\n",
    "the incident shows the lack of appropriate safety controls.\n",
    "What additional safety controls were missing\n",
    "that would have prevented the loss?"
   ]
  },
  {
   "cell_type": "markdown",
   "metadata": {},
   "source": [
    "### Systemic Problems"
   ]
  },
  {
   "cell_type": "markdown",
   "metadata": {
    "tags": []
   },
   "source": [
    "```{=latex}\n",
    "\\begin{frame}\n",
    "\\frametitle{Systemic Problems}\n",
    "\n",
    "Process\\pause\n",
    "\n",
    "Incorrect assumptions\n",
    "\n",
    "\\end{frame}\n",
    "```\n",
    "\n",
    "Finally,\n",
    "this is a catch-all category.\n",
    "What systemic problems in our processes led to this?\n",
    "\n",
    "For example,\n",
    "safety controls might be of poor quality\n",
    "because they were rushed.\n",
    "Alternatively,\n",
    "maybe lack of testing of the controls is the issue."
   ]
  },
  {
   "cell_type": "markdown",
   "metadata": {},
   "source": [
    "### Improvement Plan"
   ]
  },
  {
   "cell_type": "markdown",
   "metadata": {
    "tags": []
   },
   "source": [
    "```{=latex}\n",
    "\\begin{frame}\n",
    "\\frametitle{Improvement plan}\n",
    "\n",
    "Concrete\\pause\n",
    "\n",
    "Specific\\pause\n",
    "\n",
    "List\n",
    "\n",
    "\\end{frame}\n",
    "```\n",
    "\n",
    "An improvement plan should be written based on the issues above.\n",
    "Each item in the improvement plan should be\n",
    "*concrete*\n",
    "and\n",
    "*specific*.\n",
    "Concrete means that it is something someone can do.\n",
    "Specific means that it is clear when it has been done.\n",
    "\n",
    "List all such items under the improvement plan."
   ]
  },
  {
   "cell_type": "markdown",
   "metadata": {},
   "source": [
    "## Summary"
   ]
  },
  {
   "cell_type": "markdown",
   "metadata": {},
   "source": [
    "### Plan"
   ]
  },
  {
   "cell_type": "markdown",
   "metadata": {
    "tags": []
   },
   "source": [
    "```{=latex}\n",
    "\\begin{frame}\n",
    "\\frametitle{CAST: Plan}\n",
    "\n",
    "Process ready\n",
    "\n",
    "\\end{frame}\n",
    "```\n",
    "\n",
    "An incident is going to happen.\n",
    "Plan your\n",
    "CAST-based process before,\n",
    "so you know what do do\n",
    "after."
   ]
  },
  {
   "cell_type": "markdown",
   "metadata": {},
   "source": [
    "### Apply"
   ]
  },
  {
   "cell_type": "markdown",
   "metadata": {
    "tags": []
   },
   "source": [
    "```{=latex}\n",
    "\\begin{frame}\n",
    "\\frametitle{CAST: Apply}\n",
    "\n",
    "Incident?\\pause\n",
    "\n",
    "Assign\\pause\n",
    "\n",
    "Review\\pause\n",
    "\n",
    "Act\n",
    "\n",
    "\\end{frame}\n",
    "```\n",
    "\n",
    "After an incident,\n",
    "assign someone to do the CAST investigation.\n",
    "Once the report has been written,\n",
    "have the team review it to see if anything\n",
    "is missing or incorrect.\n",
    "After the team signs off on it,\n",
    "implement the improvement plan."
   ]
  },
  {
   "cell_type": "markdown",
   "metadata": {},
   "source": [
    "### Improve"
   ]
  },
  {
   "cell_type": "markdown",
   "metadata": {
    "tags": []
   },
   "source": [
    "```{=latex}\n",
    "\\begin{frame}\n",
    "\\frametitle{CAST: Improve}\n",
    "\n",
    "CAST is a Safety Control\n",
    "\n",
    "\\end{frame}\n",
    "```\n",
    "\n",
    "CAST itself can be thought of a safety control.\n",
    "Improvement plans should check previous incident retrospectives,\n",
    "and see if anything needs to be done differently."
   ]
  },
  {
   "cell_type": "markdown",
   "metadata": {},
   "source": [
    "```{=latex}\n",
    "\\end{document}\n",
    "```"
   ]
  }
 ],
 "metadata": {
  "kernelspec": {
   "display_name": "Python 3 (ipykernel)",
   "language": "python",
   "name": "python3"
  },
  "language_info": {
   "codemirror_mode": {
    "name": "ipython",
    "version": 3
   },
   "file_extension": ".py",
   "mimetype": "text/x-python",
   "name": "python",
   "nbconvert_exporter": "python",
   "pygments_lexer": "ipython3",
   "version": "3.10.7"
  },
  "toc-autonumbering": false
 },
 "nbformat": 4,
 "nbformat_minor": 4
}
